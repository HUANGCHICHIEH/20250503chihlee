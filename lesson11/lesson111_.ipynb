{
 "cells": [
  {
   "cell_type": "markdown",
   "id": "34c15a66",
   "metadata": {},
   "source": [
    "https://www.perplexity.ai/search/pythonwei-he-yao-shi-yong-nump-Sji8SG7fRaKbUKCu0DAJgw"
   ]
  },
  {
   "cell_type": "code",
   "execution_count": 5,
   "id": "e898be1c",
   "metadata": {},
   "outputs": [
    {
     "name": "stdout",
     "output_type": "stream",
     "text": [
      "15\n",
      "25\n",
      "35\n",
      "45\n",
      "55\n"
     ]
    }
   ],
   "source": [
    "scores:list = [10, 20, 30, 40, 50]\n",
    "scores:list = list(range(10,60,10))\n",
    "scores1:list = list()\n",
    "for score in scores:\n",
    "    score += 5\n",
    "    print (score)"
   ]
  },
  {
   "cell_type": "code",
   "execution_count": 11,
   "id": "21e5d6c6",
   "metadata": {},
   "outputs": [
    {
     "data": {
      "text/plain": [
       "[15, 25, 35, 45, 55]"
      ]
     },
     "execution_count": 11,
     "metadata": {},
     "output_type": "execute_result"
    }
   ],
   "source": [
    "scores:list = [10, 20, 30, 40, 50]\n",
    "scores:list = list(range(10,60,10))\n",
    "\n",
    "#scores1:list = list()\n",
    "#for score in scores:\n",
    "#    score += 5\n",
    "#    scores1.append(score)\n",
    "scores1 =[score+5 for score in scores]\n",
    "scores1\n"
   ]
  },
  {
   "cell_type": "markdown",
   "id": "44e00257",
   "metadata": {},
   "source": [
    "https://numpy.org/doc/stable/reference/generated/numpy.array.html"
   ]
  },
  {
   "cell_type": "code",
   "execution_count": 16,
   "id": "e77d2f9c",
   "metadata": {},
   "outputs": [
    {
     "data": {
      "text/plain": [
       "array([15, 25, 35, 45, 55])"
      ]
     },
     "execution_count": 16,
     "metadata": {},
     "output_type": "execute_result"
    }
   ],
   "source": [
    "#numpy\n",
    "import numpy as np\n",
    "\n",
    "array=np.array([10, 20, 30, 40, 50])\n",
    "type(array)\n",
    "array1 = array + 5\n",
    "array1"
   ]
  }
 ],
 "metadata": {
  "kernelspec": {
   "display_name": "chihlee1",
   "language": "python",
   "name": "python3"
  },
  "language_info": {
   "codemirror_mode": {
    "name": "ipython",
    "version": 3
   },
   "file_extension": ".py",
   "mimetype": "text/x-python",
   "name": "python",
   "nbconvert_exporter": "python",
   "pygments_lexer": "ipython3",
   "version": "3.10.16"
  }
 },
 "nbformat": 4,
 "nbformat_minor": 5
}
