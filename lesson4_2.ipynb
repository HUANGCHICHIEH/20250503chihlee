{
  "nbformat": 4,
  "nbformat_minor": 0,
  "metadata": {
    "colab": {
      "provenance": [],
      "authorship_tag": "ABX9TyNQyomsIIY50lMzDFIdVSRx",
      "include_colab_link": true
    },
    "kernelspec": {
      "name": "python3",
      "display_name": "Python 3"
    },
    "language_info": {
      "name": "python"
    }
  },
  "cells": [
    {
      "cell_type": "markdown",
      "metadata": {
        "id": "view-in-github",
        "colab_type": "text"
      },
      "source": [
        "<a href=\"https://colab.research.google.com/github/HUANGCHICHIEH/20250503chihlee/blob/main/lesson4_2.ipynb\" target=\"_parent\"><img src=\"https://colab.research.google.com/assets/colab-badge.svg\" alt=\"Open In Colab\"/></a>"
      ]
    },
    {
      "cell_type": "code",
      "execution_count": null,
      "metadata": {
        "id": "wu1yOxyI8BQd"
      },
      "outputs": [],
      "source": []
    },
    {
      "cell_type": "markdown",
      "source": [
        "# python while迴圈說明"
      ],
      "metadata": {
        "id": "SGgvZWsj8KF5"
      }
    },
    {
      "cell_type": "code",
      "source": [
        "count = 1\n",
        "while count <= 5:\n",
        "  print(count)\n",
        "  count +=1"
      ],
      "metadata": {
        "colab": {
          "base_uri": "https://localhost:8080/"
        },
        "id": "XFJcNyZJ97Tt",
        "outputId": "c2e4d937-6f3a-4d29-ccf2-383f9072b347"
      },
      "execution_count": 1,
      "outputs": [
        {
          "output_type": "stream",
          "name": "stdout",
          "text": [
            "1\n",
            "2\n",
            "3\n",
            "4\n",
            "5\n"
          ]
        }
      ]
    },
    {
      "cell_type": "code",
      "source": [
        "total = 0\n",
        "while True:\n",
        "  num = int(input(\"請輸入一個數字（輸入0結束）：\"))\n",
        "  if num == 0:\n",
        "    break\n",
        "  total += num\n",
        "print(\"總和：\",total)"
      ],
      "metadata": {
        "colab": {
          "base_uri": "https://localhost:8080/"
        },
        "id": "QkxCb2mY_g-T",
        "outputId": "a7fa79e2-f3df-4c7a-ffa9-a58e18316b38"
      },
      "execution_count": 4,
      "outputs": [
        {
          "output_type": "stream",
          "name": "stdout",
          "text": [
            "請輸入一個數字（輸入0結束）：8\n",
            "請輸入一個數字（輸入0結束）：9\n",
            "請輸入一個數字（輸入0結束）：0\n",
            "總和： 17\n"
          ]
        }
      ]
    },
    {
      "cell_type": "code",
      "source": [],
      "metadata": {
        "id": "-_VbEC5KG2bP"
      },
      "execution_count": null,
      "outputs": []
    },
    {
      "cell_type": "markdown",
      "source": [
        "# python 取得亂數1~100"
      ],
      "metadata": {
        "id": "4BbA8bWdHhC5"
      }
    },
    {
      "cell_type": "code",
      "source": [
        "import random\n",
        "min = 1\n",
        "max = 99\n",
        "count = 0\n",
        "random_number = random.randint(min,max)\n",
        "#print(random_number)\n",
        "print(\"=============猜數字遊戲開始=======\\n\\n\")\n",
        "while True:\n",
        " input_number = int(input(f\"請輸入數字（{min}~{max}）:\"))\n",
        " count += 1\n",
        " if(input_number == random_numer):\n",
        "  print(f\"賓果囉!猜對了,答案是:{input_number}\")\n",
        "  print(f\"您猜了:{count}次\")\n",
        "  break\n",
        " elif(input_number > random_number):\n",
        "  print(f\"再小一點\")\n",
        "  max = input_number - 1\n",
        " elif(input_number < random_number):\n",
        "  print(f\"再大一點\")\n",
        "  min = input_number + 1\n",
        "\n",
        " print(f\"您已經猜了:{count}次\\n\")\n",
        "\n",
        "print(\"Game Over\")"
      ],
      "metadata": {
        "colab": {
          "base_uri": "https://localhost:8080/"
        },
        "id": "qS5Ul9sIHtiQ",
        "outputId": "93d2d63c-88ae-4ded-9bc6-633eb13da6f0"
      },
      "execution_count": 18,
      "outputs": [
        {
          "output_type": "stream",
          "name": "stdout",
          "text": [
            "=============猜數字遊戲開始=======\n",
            "\n",
            "\n",
            "請輸入數字（1~99）:50\n",
            "再大一點\n",
            "您已經猜了:1次\n",
            "\n",
            "請輸入數字（51~99）:80\n",
            "再大一點\n",
            "您已經猜了:2次\n",
            "\n",
            "請輸入數字（81~99）:90\n",
            "再大一點\n",
            "您已經猜了:3次\n",
            "\n",
            "請輸入數字（91~99）:95\n",
            "再大一點\n",
            "您已經猜了:4次\n",
            "\n",
            "請輸入數字（96~99）:98\n",
            "再小一點\n",
            "您已經猜了:5次\n",
            "\n",
            "請輸入數字（96~97）:97\n",
            "再小一點\n",
            "您已經猜了:6次\n",
            "\n",
            "請輸入數字（96~96）:96\n",
            "賓果囉!猜對了,答案是:96\n",
            "您猜了:7次\n",
            "Game Over\n"
          ]
        }
      ]
    },
    {
      "cell_type": "markdown",
      "source": [],
      "metadata": {
        "id": "yXD2E7KkJlo2"
      }
    },
    {
      "cell_type": "code",
      "source": [
        "orange = 3\n",
        "apple = 5\n",
        "\"你有orange\" +str(orange)+\"個, apple \"+ str(apple)+\"個\""
      ],
      "metadata": {
        "colab": {
          "base_uri": "https://localhost:8080/",
          "height": 35
        },
        "id": "tP6JO9t6JmoW",
        "outputId": "1be78eac-d37f-4ee7-8b63-d3886faf413c"
      },
      "execution_count": 12,
      "outputs": [
        {
          "output_type": "execute_result",
          "data": {
            "text/plain": [
              "'你有orange3個, apple 5個'"
            ],
            "application/vnd.google.colaboratory.intrinsic+json": {
              "type": "string"
            }
          },
          "metadata": {},
          "execution_count": 12
        }
      ]
    },
    {
      "cell_type": "code",
      "source": [
        "orange = 3\n",
        "apple = 5\n",
        "f\"你有orange{orange}個, apple{apple}個\""
      ],
      "metadata": {
        "colab": {
          "base_uri": "https://localhost:8080/",
          "height": 35
        },
        "id": "baX7zh3AKaI_",
        "outputId": "1caabfee-1081-4a35-a115-1f2dc5ebda48"
      },
      "execution_count": 13,
      "outputs": [
        {
          "output_type": "execute_result",
          "data": {
            "text/plain": [
              "'你有orange3個, apple5個'"
            ],
            "application/vnd.google.colaboratory.intrinsic+json": {
              "type": "string"
            }
          },
          "metadata": {},
          "execution_count": 13
        }
      ]
    }
  ]
}