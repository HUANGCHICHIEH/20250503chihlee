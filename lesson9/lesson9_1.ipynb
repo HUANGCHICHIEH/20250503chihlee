{
 "cells": [
  {
   "cell_type": "markdown",
   "id": "249cb349",
   "metadata": {},
   "source": [
    "https://www.perplexity.ai/search/jsonge-shi-shi-shi-mo-WPHskgkCRTCdOlhBfRFtIw"
   ]
  }
 ],
 "metadata": {
  "kernelspec": {
   "display_name": "chihlee1",
   "language": "python",
   "name": "python3"
  },
  "language_info": {
   "name": "python",
   "version": "3.10.16"
  }
 },
 "nbformat": 4,
 "nbformat_minor": 5
}
