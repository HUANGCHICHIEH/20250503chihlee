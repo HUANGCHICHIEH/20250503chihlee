{
 "cells": [
  {
   "cell_type": "code",
   "execution_count": 3,
   "id": "946dd871",
   "metadata": {},
   "outputs": [
    {
     "name": "stdout",
     "output_type": "stream",
     "text": [
      "15\n",
      "25\n",
      "35\n",
      "45\n",
      "55\n"
     ]
    }
   ],
   "source": [
    "scores:list = [10, 20, 30, 40, 50]\n",
    "scores:list = list(range(10,60,10))\n",
    "scores1:list = list()\n",
    "for score in scores:\n",
    "    score += 5\n",
    "    print (score)"
   ]
  }
 ],
 "metadata": {
  "kernelspec": {
   "display_name": "Python 3",
   "language": "python",
   "name": "python3"
  },
  "language_info": {
   "codemirror_mode": {
    "name": "ipython",
    "version": 3
   },
   "file_extension": ".py",
   "mimetype": "text/x-python",
   "name": "python",
   "nbconvert_exporter": "python",
   "pygments_lexer": "ipython3",
   "version": "3.11.13"
  }
 },
 "nbformat": 4,
 "nbformat_minor": 5
}
