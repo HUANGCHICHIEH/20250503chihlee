{
  "nbformat": 4,
  "nbformat_minor": 0,
  "metadata": {
    "colab": {
      "provenance": [],
      "authorship_tag": "ABX9TyN4y3WTjo6gAk098Y7nyaJn",
      "include_colab_link": true
    },
    "kernelspec": {
      "name": "python3",
      "display_name": "Python 3"
    },
    "language_info": {
      "name": "python"
    }
  },
  "cells": [
    {
      "cell_type": "markdown",
      "metadata": {
        "id": "view-in-github",
        "colab_type": "text"
      },
      "source": [
        "<a href=\"https://colab.research.google.com/github/HUANGCHICHIEH/20250503chihlee/blob/main/lesson2_2.ipynb\" target=\"_parent\"><img src=\"https://colab.research.google.com/assets/colab-badge.svg\" alt=\"Open In Colab\"/></a>"
      ]
    },
    {
      "cell_type": "markdown",
      "source": [],
      "metadata": {
        "id": "mxDceeYqFxIx"
      }
    },
    {
      "cell_type": "markdown",
      "source": [
        "只有數值型別可以數學運算"
      ],
      "metadata": {
        "id": "pCCF6LyEFzUO"
      }
    },
    {
      "cell_type": "code",
      "execution_count": 5,
      "metadata": {
        "id": "TC8S1n5MFNHO",
        "colab": {
          "base_uri": "https://localhost:8080/"
        },
        "outputId": "c1a5c4df-cd00-44a6-b731-a2f3f8f2c2b7"
      },
      "outputs": [
        {
          "output_type": "execute_result",
          "data": {
            "text/plain": [
              "10.0"
            ]
          },
          "metadata": {},
          "execution_count": 5
        }
      ],
      "source": [
        "5+5\n",
        "5.0+5.0\n",
        "5+5.0"
      ]
    },
    {
      "cell_type": "markdown",
      "source": [
        "###數值和字串無法數學運算"
      ],
      "metadata": {
        "id": "UE_lhJeOGPIV"
      }
    },
    {
      "cell_type": "code",
      "source": [
        "5+\"5\""
      ],
      "metadata": {
        "colab": {
          "base_uri": "https://localhost:8080/",
          "height": 141
        },
        "id": "4G_Fj0pWGUBH",
        "outputId": "9eb21668-4a21-4549-fa40-d0ea961f98b8"
      },
      "execution_count": 6,
      "outputs": [
        {
          "output_type": "error",
          "ename": "TypeError",
          "evalue": "unsupported operand type(s) for +: 'int' and 'str'",
          "traceback": [
            "\u001b[0;31m---------------------------------------------------------------------------\u001b[0m",
            "\u001b[0;31mTypeError\u001b[0m                                 Traceback (most recent call last)",
            "\u001b[0;32m<ipython-input-6-76085b026109>\u001b[0m in \u001b[0;36m<cell line: 0>\u001b[0;34m()\u001b[0m\n\u001b[0;32m----> 1\u001b[0;31m \u001b[0;36m5\u001b[0m\u001b[0;34m+\u001b[0m\u001b[0;34m\"5\"\u001b[0m\u001b[0;34m\u001b[0m\u001b[0;34m\u001b[0m\u001b[0m\n\u001b[0m",
            "\u001b[0;31mTypeError\u001b[0m: unsupported operand type(s) for +: 'int' and 'str'"
          ]
        }
      ]
    },
    {
      "cell_type": "markdown",
      "source": [
        "###字串和字串可以相加，相乘"
      ],
      "metadata": {
        "id": "mnC-31M6GnX1"
      }
    },
    {
      "cell_type": "code",
      "source": [
        "\"5\"+\"5\"\n",
        "\"=\"*10"
      ],
      "metadata": {
        "colab": {
          "base_uri": "https://localhost:8080/",
          "height": 35
        },
        "id": "ToHqgPTSGq2R",
        "outputId": "a7766a58-eb34-4d20-f256-43df1f667748"
      },
      "execution_count": 9,
      "outputs": [
        {
          "output_type": "execute_result",
          "data": {
            "text/plain": [
              "'=========='"
            ],
            "application/vnd.google.colaboratory.intrinsic+json": {
              "type": "string"
            }
          },
          "metadata": {},
          "execution_count": 9
        }
      ]
    },
    {
      "cell_type": "markdown",
      "source": [
        "暫時轉換型別"
      ],
      "metadata": {
        "id": "L8beeNh7HGjt"
      }
    },
    {
      "cell_type": "code",
      "source": [
        "5+float(\"5\")"
      ],
      "metadata": {
        "id": "VH7SSgd6G4y2",
        "outputId": "9a2d1e1c-f2e5-4d13-ca46-88ad28f43776",
        "colab": {
          "base_uri": "https://localhost:8080/"
        }
      },
      "execution_count": 11,
      "outputs": [
        {
          "output_type": "execute_result",
          "data": {
            "text/plain": [
              "10.0"
            ]
          },
          "metadata": {},
          "execution_count": 11
        }
      ]
    },
    {
      "cell_type": "code",
      "source": [
        "width=float(input (\"請輸入矩型的寬：\"))\n",
        "height=float(input (\"請輸入矩形的高：\"))\n",
        "area=width*height\n",
        "print(\"矩形的面積為：\",area)"
      ],
      "metadata": {
        "id": "xSLrnef7Hray",
        "outputId": "3a1355f4-4bb2-4a41-9bff-c0585eed3e97",
        "colab": {
          "base_uri": "https://localhost:8080/"
        }
      },
      "execution_count": 16,
      "outputs": [
        {
          "output_type": "stream",
          "name": "stdout",
          "text": [
            "請輸入矩型的寬：5\n",
            "請輸入矩形的高：4\n",
            "矩形的面積為： 20.0\n"
          ]
        }
      ]
    },
    {
      "cell_type": "code",
      "source": [],
      "metadata": {
        "id": "wlIzaDVFHyw-"
      },
      "execution_count": null,
      "outputs": []
    }
  ]
}