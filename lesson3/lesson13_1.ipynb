{
 "cells": [
  {
   "cell_type": "markdown",
   "id": "44487948",
   "metadata": {},
   "source": [
    "https://www.perplexity.ai/search/qing-jie-shao-yi-xia-shi-mo-sh-xCoAz67VSsiwWdIunaamJA"
   ]
  },
  {
   "cell_type": "code",
   "execution_count": 5,
   "id": "509a8920",
   "metadata": {},
   "outputs": [
    {
     "data": {
      "text/plain": [
       "array([[0.55659902, 0.20671851, 0.44920852, 0.87313602],\n",
       "       [0.55702675, 0.25243224, 0.3061106 , 0.45246992],\n",
       "       [0.18149421, 0.39285896, 0.83371299, 0.98017969]])"
      ]
     },
     "execution_count": 5,
     "metadata": {},
     "output_type": "execute_result"
    }
   ],
   "source": [
    "import numpy as np\n",
    "np.random.random()\n",
    "np.random.random(3)\n",
    "np.random.random(size=3)\n",
    "np.random.random((3, 4))"
   ]
  },
  {
   "cell_type": "code",
   "execution_count": 20,
   "id": "18cc3b74",
   "metadata": {},
   "outputs": [
    {
     "data": {
      "text/plain": [
       "array([[ 2.04461343, -0.09986231,  0.95095897,  0.61222089],\n",
       "       [-0.20933302,  0.05585367, -0.15875755,  1.12488236],\n",
       "       [ 0.21758031, -0.38717292, -1.69605667,  0.33698586]])"
      ]
     },
     "execution_count": 20,
     "metadata": {},
     "output_type": "execute_result"
    }
   ],
   "source": [
    "from numpy.random import normal\n",
    "\n",
    "normal_value = normal(size=(3, 4))\n",
    "#ndarray常用的實體屬性\n",
    "type(normal_value)\n",
    "normal_value.ndim\n",
    "normal_value.size\n",
    "normal_value.shape\n",
    "normal_value.dtype\n",
    "normal_value"
   ]
  },
  {
   "cell_type": "code",
   "execution_count": 21,
   "id": "b1258f6a",
   "metadata": {},
   "outputs": [
    {
     "data": {
      "text/plain": [
       "array([[ 20.44613425,  -0.99862307,   9.50958968,   6.12220894],\n",
       "       [ -2.09333019,   0.55853667,  -1.58757553,  11.24882359],\n",
       "       [  2.17580312,  -3.87172922, -16.96056666,   3.3698586 ]])"
      ]
     },
     "execution_count": 21,
     "metadata": {},
     "output_type": "execute_result"
    }
   ],
   "source": [
    "#ndarray,陣列運算\n",
    "normal_value * 10"
   ]
  },
  {
   "cell_type": "code",
   "execution_count": 18,
   "id": "418e6444",
   "metadata": {},
   "outputs": [
    {
     "data": {
      "text/plain": [
       "array([-0.11130178, -0.37041814,  2.59166673])"
      ]
     },
     "execution_count": 18,
     "metadata": {},
     "output_type": "execute_result"
    }
   ],
   "source": [
    "#ndarray,的統計\n",
    "normal_value.sum()\n",
    "normal_value.sum(axis=0)\n",
    "normal_value.sum(axis=1)\n"
   ]
  }
 ],
 "metadata": {
  "kernelspec": {
   "display_name": "chihlee1",
   "language": "python",
   "name": "python3"
  },
  "language_info": {
   "codemirror_mode": {
    "name": "ipython",
    "version": 3
   },
   "file_extension": ".py",
   "mimetype": "text/x-python",
   "name": "python",
   "nbconvert_exporter": "python",
   "pygments_lexer": "ipython3",
   "version": "3.10.16"
  }
 },
 "nbformat": 4,
 "nbformat_minor": 5
}
