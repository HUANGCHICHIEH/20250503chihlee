{
  "nbformat": 4,
  "nbformat_minor": 0,
  "metadata": {
    "colab": {
      "provenance": [],
      "include_colab_link": true
    },
    "kernelspec": {
      "name": "python3",
      "display_name": "Python 3"
    },
    "language_info": {
      "name": "python"
    }
  },
  "cells": [
    {
      "cell_type": "markdown",
      "metadata": {
        "id": "view-in-github",
        "colab_type": "text"
      },
      "source": [
        "<a href=\"https://colab.research.google.com/github/HUANGCHICHIEH/20250503chihlee/blob/main/lesson3/lesson3_1.ipynb\" target=\"_parent\"><img src=\"https://colab.research.google.com/assets/colab-badge.svg\" alt=\"Open In Colab\"/></a>"
      ]
    },
    {
      "cell_type": "markdown",
      "source": [
        "# python判斷\n"
      ],
      "metadata": {
        "id": "xRRoqMUA0d51"
      }
    },
    {
      "cell_type": "markdown",
      "source": [
        "# python的條件式\n",
        "## python的比較運算子\n",
        "Python 的比較運算子用來比較兩個值，並回傳布林值（True 或 False）。Python 支援以下主要的比較運算子：\n",
        "\n",
        "- `<` ：小於\n",
        "- `<=` ：小於等於\n",
        "- `>` ：大於\n",
        "- `>=` ：大於等於\n",
        "- `==` ：等於\n",
        "- `!=` ：不等於\n",
        "- `is` ：判斷兩個物件是否為同一個物件（物件識別）\n",
        "- `is not` ：判斷兩個物件是否不是同一個物件"
      ],
      "metadata": {
        "id": "Vlp7O1Mb0ozG"
      }
    },
    {
      "cell_type": "code",
      "source": [
        "5 == 5\n",
        "5 != 5\n",
        "5 is 5.0\n",
        "5 is not 5.0"
      ],
      "metadata": {
        "id": "lgtpYLFk24CI",
        "outputId": "9458526f-f643-44a1-93e2-76239ef950ce",
        "colab": {
          "base_uri": "https://localhost:8080/"
        }
      },
      "execution_count": null,
      "outputs": [
        {
          "output_type": "stream",
          "name": "stderr",
          "text": [
            "<>:3: SyntaxWarning: \"is\" with a literal. Did you mean \"==\"?\n",
            "<>:4: SyntaxWarning: \"is not\" with a literal. Did you mean \"!=\"?\n",
            "<>:3: SyntaxWarning: \"is\" with a literal. Did you mean \"==\"?\n",
            "<>:4: SyntaxWarning: \"is not\" with a literal. Did you mean \"!=\"?\n",
            "<ipython-input-5-4ebd421497a6>:3: SyntaxWarning: \"is\" with a literal. Did you mean \"==\"?\n",
            "  5 is 5.0\n",
            "<ipython-input-5-4ebd421497a6>:4: SyntaxWarning: \"is not\" with a literal. Did you mean \"!=\"?\n",
            "  5 is not 5.0\n"
          ]
        },
        {
          "output_type": "execute_result",
          "data": {
            "text/plain": [
              "True"
            ]
          },
          "metadata": {},
          "execution_count": 5
        }
      ]
    },
    {
      "cell_type": "markdown",
      "source": [
        "# python的條件式\n",
        "## python的比較運算子\n",
        "Python 的比較運算子用來比較兩個值，並回傳布林值（True 或 False）。Python 支援以下主要的比較運算子：\n",
        "\n",
        "- `<` ：小於\n",
        "- `<=` ：小於等於\n",
        "- `>` ：大於\n",
        "- `>=` ：大於等於\n",
        "- `==` ：等於\n",
        "- `!=` ：不等於\n",
        "- `is` ：判斷兩個物件是否為同一個物件（物件識別）\n",
        "- `is not` ：判斷兩個物件是否不是同一個物件\n",
        "- `>` : 小於"
      ],
      "metadata": {
        "id": "TcSIeB6g5DsD"
      }
    },
    {
      "cell_type": "markdown",
      "source": [
        "# python條件式\n",
        "- 單項式\n",
        "- 雙項式\n",
        "\n",
        "請給我：\n",
        "- 語法\n",
        "- 說明\n",
        "- 小範例\n",
        "\n",
        "請使用繁體中文"
      ],
      "metadata": {
        "id": "xUQIl9jv5u81"
      }
    },
    {
      "cell_type": "markdown",
      "source": [
        "## Python 條件式\n",
        "\n",
        "### **一、單項式（if 條件式）**\n",
        "\n",
        "#### 語法\n",
        "```python\n",
        "if 條件:\n",
        "    程式區塊\n",
        "```\n",
        "\n",
        "#### 說明\n",
        "- 當「條件」成立（結果為 True）時，執行縮排的程式區塊。\n",
        "- 若條件不成立，則跳過此程式區塊，繼續往下執行。\n",
        "- 注意：程式區塊必須縮排（通常為四個空白）。\n",
        "\n",
        "#### 小範例\n",
        "```python\n",
        "age = 20\n",
        "if age >= 18:\n",
        "    print(\"可以喝酒\")\n",
        "```\n",
        "執行結果：\n",
        "```\n",
        "可以喝酒\n",
        "```\n",
        "如果 `age` 小於 18，則不會輸出任何內容。[4][5][6]\n",
        "\n",
        "---\n",
        "\n",
        "### **二、雙項式（if-else 條件式）**\n",
        "\n",
        "#### 語法\n",
        "```python\n",
        "if 條件:\n",
        "    程式區塊1\n",
        "else:\n",
        "    程式區塊2\n",
        "```\n",
        "\n",
        "#### 說明\n",
        "- 當「條件」成立時，執行 `程式區塊1`。\n",
        "- 當「條件」不成立時，執行 `程式區塊2`。\n",
        "- 依然要注意縮排。\n",
        "\n",
        "#### 小範例\n",
        "```python\n",
        "age = 17\n",
        "if age >= 18:\n",
        "    print(\"可以喝酒\")\n",
        "else:\n",
        "    print(\"只能喝水\")\n",
        "```\n",
        "執行結果：\n",
        "```\n",
        "只能喝水\n",
        "```\n",
        "如果 `age` 大於等於 18，則輸出「可以喝酒」；否則輸出「只能喝水」。[4][5][6]\n",
        "\n",
        "---\n",
        "\n",
        "### **補充：多項式（if-elif-else 條件式）**\n",
        "\n",
        "#### 語法\n",
        "```python\n",
        "if 條件1:\n",
        "    程式區塊1\n",
        "elif 條件2:\n",
        "    程式區塊2\n",
        "else:\n",
        "    程式區塊3\n",
        "```\n",
        "\n",
        "#### 小範例\n",
        "```python\n",
        "score = 85\n",
        "if score >= 90:\n",
        "    print(\"成績：A\")\n",
        "elif score >= 80:\n",
        "    print(\"成績：B+\")\n",
        "else:\n",
        "    print(\"成績：C\")\n",
        "```\n",
        "執行結果：\n",
        "```\n",
        "成績：B+\n",
        "```\n",
        "這種寫法適合有多個條件分支的情況。[6]\n",
        "\n",
        "---\n",
        "\n",
        "### **注意事項**\n",
        "- 條件式的判斷通常會用比較運算子（如：==、!=、>、=、<=）。\n",
        "- 程式區塊必須正確縮排，否則會發生語法錯誤。[4][5]\n",
        "\n"
      ],
      "metadata": {
        "id": "VTatJS7v6bmV"
      }
    },
    {
      "cell_type": "code",
      "source": [
        "#雙向選擇\n",
        "scores = 65\n",
        "if scores >= 60:\n",
        "  print('及格')\n",
        "else:\n",
        "  print('不及格')"
      ],
      "metadata": {
        "id": "LEa7LJwb7Uli",
        "outputId": "74bf8552-d79f-403d-c498-ad30495a60a8",
        "colab": {
          "base_uri": "https://localhost:8080/"
        }
      },
      "execution_count": 6,
      "outputs": [
        {
          "output_type": "stream",
          "name": "stdout",
          "text": [
            "及格\n"
          ]
        }
      ]
    },
    {
      "cell_type": "code",
      "source": [
        "#單向選擇\n",
        "scores = 55\n",
        "if scores < 60:\n",
        "  print('不及格')\n",
        "print(\"應用程式結束了\")"
      ],
      "metadata": {
        "id": "NiSbdvwX7x_C",
        "outputId": "a0449ff7-530e-4878-98db-3290e5de6a04",
        "colab": {
          "base_uri": "https://localhost:8080/"
        }
      },
      "execution_count": 4,
      "outputs": [
        {
          "output_type": "stream",
          "name": "stdout",
          "text": [
            "不及格\n",
            "應用程式結束了\n"
          ]
        }
      ]
    }
  ]
}