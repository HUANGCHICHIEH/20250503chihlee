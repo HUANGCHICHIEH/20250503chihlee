{
 "cells": [
  {
   "cell_type": "markdown",
   "id": "446df63c",
   "metadata": {},
   "source": [
    "# 結構化專案程式，有點難喔\n",
    "- function"
   ]
  },
  {
   "cell_type": "code",
   "execution_count": null,
   "id": "fe6ed309",
   "metadata": {},
   "outputs": [],
   "source": [
    "print(\"Hello! Function!\")"
   ]
  }
 ],
 "metadata": {
  "kernelspec": {
   "display_name": "chihlee1",
   "language": "python",
   "name": "python3"
  },
  "language_info": {
   "name": "python",
   "version": "3.10.16"
  }
 },
 "nbformat": 4,
 "nbformat_minor": 5
}
