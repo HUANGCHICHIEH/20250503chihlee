{
  "nbformat": 4,
  "nbformat_minor": 0,
  "metadata": {
    "colab": {
      "provenance": [],
      "authorship_tag": "ABX9TyNSgTlcmm4RonNskn4eW8Do",
      "include_colab_link": true
    },
    "kernelspec": {
      "name": "python3",
      "display_name": "Python 3"
    },
    "language_info": {
      "name": "python"
    }
  },
  "cells": [
    {
      "cell_type": "markdown",
      "metadata": {
        "id": "view-in-github",
        "colab_type": "text"
      },
      "source": [
        "<a href=\"https://colab.research.google.com/github/HUANGCHICHIEH/20250503chihlee/blob/main/lesson4_1.ipynb\" target=\"_parent\"><img src=\"https://colab.research.google.com/assets/colab-badge.svg\" alt=\"Open In Colab\"/></a>"
      ]
    },
    {
      "cell_type": "code",
      "execution_count": null,
      "metadata": {
        "id": "W2hwmL53sGvJ"
      },
      "outputs": [],
      "source": []
    },
    {
      "cell_type": "code",
      "source": [
        "range (10)"
      ],
      "metadata": {
        "id": "hD6nCcuwtUx7"
      },
      "execution_count": null,
      "outputs": []
    },
    {
      "cell_type": "code",
      "source": [
        "#list\n",
        "for i in [45, 92, 78, 50, 69]:\n",
        "  print(i)"
      ],
      "metadata": {
        "colab": {
          "base_uri": "https://localhost:8080/"
        },
        "id": "Q4H2UScAujaD",
        "outputId": "19496483-6106-43bd-9ce9-bcce57599576"
      },
      "execution_count": 2,
      "outputs": [
        {
          "output_type": "stream",
          "name": "stdout",
          "text": [
            "45\n",
            "92\n",
            "78\n",
            "50\n",
            "69\n"
          ]
        }
      ]
    },
    {
      "cell_type": "code",
      "source": [
        "#tuple\n",
        "for i in (45, 92, 78, 50, 69):\n",
        "  print(i)"
      ],
      "metadata": {
        "id": "rNjruWRyvNdd",
        "outputId": "93a590cf-d743-426a-8235-a2b3785540c0",
        "colab": {
          "base_uri": "https://localhost:8080/"
        }
      },
      "execution_count": 3,
      "outputs": [
        {
          "output_type": "stream",
          "name": "stdout",
          "text": [
            "45\n",
            "92\n",
            "78\n",
            "50\n",
            "69\n"
          ]
        }
      ]
    },
    {
      "cell_type": "markdown",
      "source": [
        "# python list 和tuple有何差別"
      ],
      "metadata": {
        "id": "xybRL6GzvX8q"
      }
    },
    {
      "cell_type": "markdown",
      "source": [
        "#python詞典物件介紹\n",
        "---\n",
        "字典（Dictionary）介紹\n",
        "基本概念\n",
        "-字典是無序的鍵值對集合，每個鍵（key）對應一個值（value）。\n",
        "\n",
        "-鍵必須是不可變（可雜湊）的類型，如字串、數字、元組（內容不可變）等。\n",
        "\n",
        "-值可以是任意類型，包含數字、字串、串列、其他字典等。\n",
        "\n",
        "-字典使用大括號 {} 建立，鍵值對以冒號 : 分隔，項目間用逗號 , 分開。"
      ],
      "metadata": {
        "id": "8c1lVdv2yGzY"
      }
    },
    {
      "cell_type": "code",
      "source": [
        "desserts={'Muffin':39,'Scone':25,'Biscuit':20}\n",
        "desserts[\"Muffin\"]\n",
        "desserts[\"Scone\"]"
      ],
      "metadata": {
        "id": "aZLZnfG9ygYN",
        "outputId": "10205b4f-e89f-49c0-f760-cdceda66f0ba",
        "colab": {
          "base_uri": "https://localhost:8080/"
        }
      },
      "execution_count": 7,
      "outputs": [
        {
          "output_type": "execute_result",
          "data": {
            "text/plain": [
              "25"
            ]
          },
          "metadata": {},
          "execution_count": 7
        }
      ]
    },
    {
      "cell_type": "code",
      "source": [
        "stu1={\"name\":\"robert\",\n",
        "      \"chinese\":78,\n",
        "      \"englist\":98,\n",
        "      \"math\":73}\n",
        "\n",
        "stu2={\"name\":\"alice\",\n",
        "      \"chinese\":72,\n",
        "      \"englist\":88,\n",
        "      \"math\":63}\n",
        "\n",
        "stu3={\"name\":\"jennt\",\n",
        "      \"chinese\":65,\n",
        "      \"englist\":78,\n",
        "      \"math\":93}"
      ],
      "metadata": {
        "id": "_X2qaxMYytC-"
      },
      "execution_count": 10,
      "outputs": []
    },
    {
      "cell_type": "code",
      "source": [
        "type(stu1)"
      ],
      "metadata": {
        "id": "ovNuPjBZ0aOs",
        "outputId": "ac19c382-882c-4b9e-fa02-534ecf95b1c9",
        "colab": {
          "base_uri": "https://localhost:8080/"
        }
      },
      "execution_count": 12,
      "outputs": [
        {
          "output_type": "execute_result",
          "data": {
            "text/plain": [
              "dict"
            ]
          },
          "metadata": {},
          "execution_count": 12
        }
      ]
    },
    {
      "cell_type": "code",
      "source": [
        "students=[stu1, stu2, stu3]\n",
        "students"
      ],
      "metadata": {
        "id": "Nj2sSfRy0iV2",
        "outputId": "63f83e62-2798-464b-a89e-4a44fd75d0d7",
        "colab": {
          "base_uri": "https://localhost:8080/"
        }
      },
      "execution_count": 13,
      "outputs": [
        {
          "output_type": "execute_result",
          "data": {
            "text/plain": [
              "[{'name': 'robert', 'chinese': 78, 'englist': 98, 'math': 73},\n",
              " {'name': 'alice', 'chinese': 72, 'englist': 88, 'math': 63},\n",
              " {'name': 'jennt', 'chinese': 65, 'englist': 78, 'math': 93}]"
            ]
          },
          "metadata": {},
          "execution_count": 13
        }
      ]
    }
  ]
}