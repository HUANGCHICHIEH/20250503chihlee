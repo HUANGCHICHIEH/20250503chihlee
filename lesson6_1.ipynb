{
 "cells": [
  {
   "cell_type": "markdown",
   "id": "d22fd5ca",
   "metadata": {},
   "source": [
    "# 結構化專案程式，有點難喔\n",
    "- function"
   ]
  },
  {
   "cell_type": "code",
   "execution_count": 2,
   "id": "3071c72f",
   "metadata": {},
   "outputs": [
    {
     "name": "stdout",
     "output_type": "stream",
     "text": [
      "Hello! Function!\n"
     ]
    }
   ],
   "source": [
    "print(\"Hello! Function!\")"
   ]
  },
  {
   "cell_type": "code",
   "execution_count": 3,
   "id": "a0c743c0",
   "metadata": {},
   "outputs": [
    {
     "name": "stdout",
     "output_type": "stream",
     "text": [
      "hello! second\n"
     ]
    }
   ],
   "source": [
    "print(\"hello! second\")"
   ]
  }
 ],
 "metadata": {
  "kernelspec": {
   "display_name": "chihlee1",
   "language": "python",
   "name": "python3"
  },
  "language_info": {
   "codemirror_mode": {
    "name": "ipython",
    "version": 3
   },
   "file_extension": ".py",
   "mimetype": "text/x-python",
   "name": "python",
   "nbconvert_exporter": "python",
   "pygments_lexer": "ipython3",
   "version": "3.10.16"
  }
 },
 "nbformat": 4,
 "nbformat_minor": 5
}
