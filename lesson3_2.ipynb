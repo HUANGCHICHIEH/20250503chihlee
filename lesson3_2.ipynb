{
  "nbformat": 4,
  "nbformat_minor": 0,
  "metadata": {
    "colab": {
      "provenance": [],
      "authorship_tag": "ABX9TyMFypFtc3IOmaxyVr4UiP20",
      "include_colab_link": true
    },
    "kernelspec": {
      "name": "python3",
      "display_name": "Python 3"
    },
    "language_info": {
      "name": "python"
    }
  },
  "cells": [
    {
      "cell_type": "markdown",
      "metadata": {
        "id": "view-in-github",
        "colab_type": "text"
      },
      "source": [
        "<a href=\"https://colab.research.google.com/github/HUANGCHICHIEH/20250503chihlee/blob/main/lesson3_2.ipynb\" target=\"_parent\"><img src=\"https://colab.research.google.com/assets/colab-badge.svg\" alt=\"Open In Colab\"/></a>"
      ]
    },
    {
      "cell_type": "code",
      "execution_count": null,
      "metadata": {
        "id": "xOoBH6wYKf-q"
      },
      "outputs": [],
      "source": []
    },
    {
      "cell_type": "markdown",
      "source": [
        "1"
      ],
      "metadata": {
        "id": "X6DwOvLJKyoN"
      }
    },
    {
      "cell_type": "code",
      "source": [
        "presure = 92\n",
        "if presure >= 80:\n",
        "  if presure <= 120:\n",
        "    print(\"血壓正常\")"
      ],
      "metadata": {
        "id": "KIU39qwuMBts",
        "outputId": "3f2bc9af-112a-4db4-fed8-3370c70fa6fc",
        "colab": {
          "base_uri": "https://localhost:8080/"
        }
      },
      "execution_count": 1,
      "outputs": [
        {
          "output_type": "stream",
          "name": "stdout",
          "text": [
            "血壓正常\n"
          ]
        }
      ]
    },
    {
      "cell_type": "code",
      "source": [
        "presure = 92\n",
        "if presure >= 80 and presure <= 120:\n",
        "  print(\"血壓正常\")"
      ],
      "metadata": {
        "id": "zC8K2Hm3MNlc",
        "outputId": "1597b5cc-06a4-4c19-9876-befc0fb6d94f",
        "colab": {
          "base_uri": "https://localhost:8080/"
        }
      },
      "execution_count": 2,
      "outputs": [
        {
          "output_type": "stream",
          "name": "stdout",
          "text": [
            "血壓正常\n"
          ]
        }
      ]
    }
  ]
}