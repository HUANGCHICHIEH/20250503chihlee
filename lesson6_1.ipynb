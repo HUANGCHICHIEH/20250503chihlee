{
 "cells": [
  {
   "cell_type": "code",
   "execution_count": null,
   "id": "d22fd5ca",
   "metadata": {},
   "outputs": [
    {
     "ename": "",
     "evalue": "",
     "output_type": "error",
     "traceback": [
      "\u001b[1;31m執行具有 'chihlee1 (Python 3.10.16)' 的儲存格需要 ipykernel 套件。\n",
      "\u001b[1;31m使用所需的套件<a href='command:jupyter.createPythonEnvAndSelectController'>建立 Python 環境</a>。"
     ]
    }
   ],
   "source": [
    "#結構化專案程式\n",
    "-function"
   ]
  }
 ],
 "metadata": {
  "kernelspec": {
   "display_name": "chihlee1",
   "language": "python",
   "name": "python3"
  },
  "language_info": {
   "name": "python",
   "version": "3.10.16"
  }
 },
 "nbformat": 4,
 "nbformat_minor": 5
}
