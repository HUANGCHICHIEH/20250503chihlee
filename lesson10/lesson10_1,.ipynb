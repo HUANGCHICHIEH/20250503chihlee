{
 "cells": [
  {
   "cell_type": "code",
   "execution_count": null,
   "id": "5330f04e",
   "metadata": {},
   "outputs": [],
   "source": []
  },
  {
   "cell_type": "markdown",
   "id": "22b15f4c",
   "metadata": {},
   "source": [
    "https://www.perplexity.ai/search/csvwen-jian-shi-shi-mo-zx2ahETXQraPVNGfLbEoAw"
   ]
  }
 ],
 "metadata": {
  "kernelspec": {
   "display_name": "chihlee1",
   "language": "python",
   "name": "python3"
  },
  "language_info": {
   "name": "python",
   "version": "3.10.16"
  }
 },
 "nbformat": 4,
 "nbformat_minor": 5
}
